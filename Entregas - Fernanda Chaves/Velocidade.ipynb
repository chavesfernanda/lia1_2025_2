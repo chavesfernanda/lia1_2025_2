{
 "cells": [
  {
   "attachments": {},
   "cell_type": "markdown",
   "id": "186487c3",
   "metadata": {},
   "source": [
    "<hr style=\"height:10px\"> \n",
    " \n",
    "<div class='container2'>\n",
    "\t\t<div>\n",
    "\t\t\t<img src=\"images/header.png\" ALIGN='left' style='width:10em'>\n",
    "\t\t</div>\t\n",
    "\t<div style='padding: 0 7em 2em 12em;'>\n",
    "\t<h1>Laboratório de Inovação e Automação 1 (LIA 1)</h1>\n",
    "\t<div style=\"font-size:12pt;float:left;\"> 2025/2 | 46M34 | Sala 200 CAE</div><br><br>\n",
    "    <div style=\"font-size:12pt;float:left;\"><b>Projetos de Inteligência Artificial - Análise Exploratória de Dados </b></div>\n",
    "\t</div>\n",
    "</div>\n",
    "\n",
    "\n",
    " <hr style=\"height:5px\"> \n",
    "\n",
    "    \n",
    "<h2>Aula 11 - Introdução à Ciência de Dados - <a href=>Velocidade Dataset (Monitoramento de velocidades em locais diferentes para manutenção do tráfego). </a> </h2>\n",
    "\n",
    "Notebook desenvolvido por: <a>Estudante de Engenharia de Computação Fernanda Chaves.</a>\n",
    "\n",
    " <hr style=\"height:2px\"> "
   ]
  },
  {
   "cell_type": "code",
   "execution_count": null,
   "id": "0f813997",
   "metadata": {},
   "outputs": [],
   "source": [
    "# Confirmar a versão da Linguagem Python instalada\n",
    "from platform import python_version\n",
    "print(f'A versão da linguagem Python usada neste projeto é a {python_version()}!')"
   ]
  },
  {
   "cell_type": "code",
   "execution_count": null,
   "id": "831905a5",
   "metadata": {},
   "outputs": [],
   "source": [
    "# Verificar se o Python está funcionando\n",
    "print('Bye bye, World!')"
   ]
  },
  {
   "cell_type": "code",
   "execution_count": null,
   "id": "2e82d124",
   "metadata": {},
   "outputs": [],
   "source": [
    "# Instalar bibliotecas (caso ainda não estejam instaladas)\n",
    "#!pip install numpy pandas matplotlib seaborn"
   ]
  },
  {
   "cell_type": "markdown",
   "id": "99d79b64",
   "metadata": {},
   "source": [
    "# Instalação e importação de bibliotecas\n",
    "\n",
    "Usa pip install (se necessário) para garantir que numpy, pandas, matplotlib e seaborn estejam disponíveis.\n",
    "\n",
    "Faz o import dessas bibliotecas e exibe uma mensagem de confirmação.\n",
    "\n",
    "pandas → manipulação de dados em tabelas (CSV).\n",
    "\n",
    "numpy → cálculos numéricos.\n",
    "\n",
    "matplotlib e seaborn → visualizações gráficas."
   ]
  },
  {
   "cell_type": "code",
   "execution_count": null,
   "id": "c4e25535",
   "metadata": {},
   "outputs": [],
   "source": [
    "# Importar bibliotecas\n",
    "import numpy as np\n",
    "import pandas as pd\n",
    "import matplotlib.pyplot as plt\n",
    "import seaborn as sns\n",
    "\n",
    "print(\"Bibliotecas carregadas com sucesso!\")"
   ]
  },
  {
   "cell_type": "markdown",
   "id": "22c1202e",
   "metadata": {},
   "source": [
    " # Leitura do dataset (CSV)\n",
    "\n",
    "O código lê um arquivo chamado velocidades.csv.\n",
    "\n",
    "Esse arquivo deve conter os registros das medições de velocidade.\n",
    "\n",
    "Normalmente tem colunas como: Trecho (local da medição) e Velocidade (valor numérico)."
   ]
  },
  {
   "cell_type": "code",
   "execution_count": null,
   "id": "c5b838be",
   "metadata": {},
   "outputs": [],
   "source": [
    "# Ler dataset a partir de um arquivo CSV\n",
    "\n",
    "# Exemplo: velocidades.csv deve ter colunas como:\n",
    "# Trecho,Velocidade\n",
    "# Trecho A,82\n",
    "# Trecho B,74\n",
    "# Trecho C,95\n",
    "\n",
    "df = pd.read_csv(\"velocidades.csv\")\n",
    "\n",
    "# Visualizar primeiras linhas\n",
    "\n",
    "print(\"\\nPrimeiras linhas do dataset:\")\n",
    "print(df.head())"
   ]
  },
  {
   "cell_type": "markdown",
   "id": "19a03d73",
   "metadata": {},
   "source": [
    "# Estatísticas descritivas\n",
    "\n",
    "Utiliza df.describe() para gerar estatísticas básicas das velocidades:\n",
    "\n",
    "Média, mediana, mínimo, máximo, desvio padrão, etc.\n",
    "\n",
    "Isso ajuda a entender como os valores estão distribuídos."
   ]
  },
  {
   "cell_type": "code",
   "execution_count": null,
   "id": "c1071df0",
   "metadata": {},
   "outputs": [],
   "source": [
    "# Estatísticas descritivas\n",
    "\n",
    "print(\"\\nEstatísticas descritivas:\")\n",
    "print(df.describe())"
   ]
  },
  {
   "cell_type": "markdown",
   "id": "8be75e85",
   "metadata": {},
   "source": [
    "# Visualizações de dados\n",
    "\n",
    "O projeto gera vários gráficos:\n",
    "\n",
    "Histograma → mostra a distribuição das velocidades (quantas vezes cada faixa de valores aparece).\n",
    "\n",
    "Boxplot por trecho → compara a variação de velocidades em diferentes trechos.\n",
    "\n",
    "Gráfico de dispersão (stripplot) → mostra os pontos individuais de velocidade em cada trecho.\n",
    "\n",
    "Esses gráficos ajudam a visualizar se existem outliers (valores muito fora da média) e diferenças entre os trechos."
   ]
  },
  {
   "cell_type": "code",
   "execution_count": null,
   "id": "d5195190",
   "metadata": {},
   "outputs": [],
   "source": [
    "\n",
    "# Visualizações\n",
    "\n",
    "# Histograma das velocidades\n",
    "plt.figure(figsize=(8,5))\n",
    "sns.histplot(df[\"Velocidade\"], bins=15, kde=True)\n",
    "plt.title(\"Distribuição das Velocidades (km/h)\")\n",
    "plt.xlabel(\"Velocidade (km/h)\")\n",
    "plt.ylabel(\"Frequência\")\n",
    "plt.show()"
   ]
  },
  {
   "cell_type": "code",
   "execution_count": null,
   "id": "eae07855",
   "metadata": {},
   "outputs": [],
   "source": [
    "# Boxplot por trecho\n",
    "\n",
    "plt.figure(figsize=(8,5))\n",
    "sns.boxplot(x=\"Trecho\", y=\"Velocidade\", data=df, hue=\"Trecho\", palette=\"Set2\", legend=False)\n",
    "plt.title(\"Velocidade por Trecho\")\n",
    "plt.xlabel(\"Trecho\")\n",
    "plt.ylabel(\"Velocidade (km/h)\")\n",
    "plt.show()"
   ]
  },
  {
   "cell_type": "code",
   "execution_count": null,
   "id": "8059e8d4",
   "metadata": {},
   "outputs": [],
   "source": [
    "# Gráfico de dispersão\n",
    "\n",
    "plt.figure(figsize=(8,5))\n",
    "sns.stripplot(x=\"Trecho\", y=\"Velocidade\", data=df, jitter=True, alpha=0.7)\n",
    "plt.title(\"Dispersão de Velocidades por Trecho\")\n",
    "plt.xlabel(\"Trecho\")\n",
    "plt.ylabel(\"Velocidade (km/h)\")\n",
    "plt.show()"
   ]
  },
  {
   "cell_type": "markdown",
   "id": "8ddad9df",
   "metadata": {},
   "source": [
    "# Monitoramento em tempo real\n",
    "\n",
    "Há um trecho que usa time e clear_output para:\n",
    "\n",
    "Ler o arquivo velocidades.csv de tempos em tempos.\n",
    "\n",
    "Atualizar os gráficos automaticamente conforme o CSV é atualizado.\n",
    "\n",
    "Isso permite acompanhar a evolução dos dados sem precisar rodar o notebook manualmente toda vez."
   ]
  },
  {
   "cell_type": "code",
   "execution_count": null,
   "id": "8b176b3a",
   "metadata": {},
   "outputs": [],
   "source": [
    "import pandas as pd\n",
    "import matplotlib.pyplot as plt\n",
    "import seaborn as sns\n",
    "import time\n",
    "from IPython.display import clear_output"
   ]
  },
  {
   "cell_type": "code",
   "execution_count": null,
   "id": "eeebc3ec",
   "metadata": {},
   "outputs": [],
   "source": [
    "# Nome do arquivo CSV a ser monitorado\n",
    "\n",
    "arquivo_csv = \"velocidades.csv\"\n",
    "\n",
    "# Loop infinito de monitoramento\n",
    "\n",
    "for i in range(50):  # rode 50 vezes (ou troque por while True para rodar sem parar)\n",
    "    try:\n",
    "        # Ler o CSV atualizado\n",
    "        \n",
    "        df = pd.read_csv(arquivo_csv)\n",
    "\n",
    "        # Limpar saída anterior\n",
    "        \n",
    "        clear_output(wait=True)\n",
    "\n",
    "        # Criar gráfico atualizado\n",
    "        \n",
    "        plt.figure(figsize=(8,5))\n",
    "        sns.lineplot(data=df, x=df.index, y=\"Velocidade\", hue=\"Trecho\", marker=\"o\")\n",
    "        plt.title(\"Monitoramento em Tempo Real (CSV)\")\n",
    "        plt.xlabel(\"Leituras\")\n",
    "        plt.ylabel(\"Velocidade (km/h)\")\n",
    "        plt.legend(loc=\"upper right\")\n",
    "        plt.show()\n",
    "\n",
    "    except Exception as e:\n",
    "        print(\"Erro ao ler o CSV:\", e)\n",
    "\n",
    "    # Espera 2 segundos antes de atualizar (ajuste conforme a frequência dos dados)\n",
    "    time.sleep(2)\n",
    " #substitua for i in range(50): por while True:"
   ]
  }
 ],
 "metadata": {
  "kernelspec": {
   "display_name": "Python 3 (ipykernel)",
   "language": "python",
   "name": "python3"
  },
  "language_info": {
   "codemirror_mode": {
    "name": "ipython",
    "version": 3
   },
   "file_extension": ".py",
   "mimetype": "text/x-python",
   "name": "python",
   "nbconvert_exporter": "python",
   "pygments_lexer": "ipython3",
   "version": "3.12.3"
  }
 },
 "nbformat": 4,
 "nbformat_minor": 5
}
