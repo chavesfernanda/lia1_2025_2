{
  "cells": [
    {
      "cell_type": "markdown",
      "metadata": {
        "id": "view-in-github",
        "colab_type": "text"
      },
      "source": [
        "<a href=\"https://colab.research.google.com/github/chavesfernanda/lia1_2025_2/blob/main/Aula%2004%20-%20Colab%20e%20VScode/Aula05_Introdu%C3%A7%C3%A3o_ao_Python_com_GitHub_Colab.ipynb\" target=\"_parent\"><img src=\"https://colab.research.google.com/assets/colab-badge.svg\" alt=\"Open In Colab\"/></a>"
      ]
    },
    {
      "cell_type": "markdown",
      "source": [
        "<hr>\n",
        "<div class=\"container\">\n",
        "    <img src='https://github.com/scadriano/datascience/blob/main/datascienceintroduce/header.png?raw=true' align='left' width='180'  height='200' />\n",
        "</div>\n",
        "\n",
        "<h1>Laboratório de Inovação e Automação 1 (LIA 1)</h1>\n",
        "\t<div> 2025/02| 24M34 | Sala 200 CAE</ </div>\n",
        "<hr>\n",
        "\n",
        "<h2> Introdução ao Python com Github - Colab </h2>\n",
        "Notebook desenvolvido por: <a href=\"http://lattes.cnpq.br/1346824250595330\">Prof. Dr. Adriano C. Santana</a>\n",
        "\n",
        "<hr>"
      ],
      "metadata": {
        "id": "YBh3gIdTZZTq"
      }
    },
    {
      "cell_type": "code",
      "source": [
        "# Conexão com o Google Drive\n",
        "from google.colab import drive\n",
        "drive.mount('/content/drive')"
      ],
      "metadata": {
        "id": "c-NKo42NUSxE",
        "colab": {
          "base_uri": "https://localhost:8080/"
        },
        "outputId": "d4782173-7383-47ef-ee2f-ecb6ac8501a6"
      },
      "execution_count": 1,
      "outputs": [
        {
          "output_type": "stream",
          "name": "stdout",
          "text": [
            "Mounted at /content/drive\n"
          ]
        }
      ]
    },
    {
      "cell_type": "code",
      "execution_count": 2,
      "metadata": {
        "id": "S7ycFm2uS6Zf",
        "colab": {
          "base_uri": "https://localhost:8080/"
        },
        "outputId": "bcfa4841-c43b-4632-de50-026d31e9cdd1"
      },
      "outputs": [
        {
          "output_type": "stream",
          "name": "stdout",
          "text": [
            "A versão da linguagem Python usada neste projeto é a 3.12.11!\n"
          ]
        }
      ],
      "source": [
        "# Confirmar a versão da Linguagem Python instalada\n",
        "from platform import python_version\n",
        "print(f'A versão da linguagem Python usada neste projeto é a {python_version()}!')\n",
        "#python_version()"
      ]
    },
    {
      "cell_type": "code",
      "execution_count": 3,
      "metadata": {
        "id": "0Ok3LkukS6Zh",
        "colab": {
          "base_uri": "https://localhost:8080/"
        },
        "outputId": "75eec070-f164-4953-d2a1-ec545cd53202"
      },
      "outputs": [
        {
          "output_type": "stream",
          "name": "stdout",
          "text": [
            "Bye bye, World!\n"
          ]
        }
      ],
      "source": [
        "# Verificar se o Python está funcionando\n",
        "print('Bye bye, World!')"
      ]
    },
    {
      "cell_type": "markdown",
      "metadata": {
        "id": "xZvFP8n4S6Zl"
      },
      "source": [
        "# Manipulando arquivos"
      ]
    },
    {
      "cell_type": "markdown",
      "metadata": {
        "id": "-94c6K4LS6Zl"
      },
      "source": [
        "### Lendo arquivos (.txt)"
      ]
    },
    {
      "cell_type": "code",
      "execution_count": 4,
      "metadata": {
        "id": "s7ebVmN5S6Zm",
        "colab": {
          "base_uri": "https://localhost:8080/",
          "height": 164
        },
        "outputId": "4072a096-2f74-4422-c80f-bd4c4c411e99"
      },
      "outputs": [
        {
          "output_type": "error",
          "ename": "FileNotFoundError",
          "evalue": "[Errno 2] No such file or directory: '/content/sample_data/arquivoTeste.txt'",
          "traceback": [
            "\u001b[0;31m---------------------------------------------------------------------------\u001b[0m",
            "\u001b[0;31mFileNotFoundError\u001b[0m                         Traceback (most recent call last)",
            "\u001b[0;32m/tmp/ipython-input-815004436.py\u001b[0m in \u001b[0;36m<cell line: 0>\u001b[0;34m()\u001b[0m\n\u001b[1;32m      1\u001b[0m \u001b[0;31m# Abrindo o arquivo para leitura\u001b[0m\u001b[0;34m\u001b[0m\u001b[0;34m\u001b[0m\u001b[0m\n\u001b[0;32m----> 2\u001b[0;31m \u001b[0ma1\u001b[0m \u001b[0;34m=\u001b[0m \u001b[0mopen\u001b[0m\u001b[0;34m(\u001b[0m\u001b[0;34m\"/content/sample_data/arquivoTeste.txt\"\u001b[0m\u001b[0;34m,\u001b[0m \u001b[0;34m\"r\"\u001b[0m\u001b[0;34m)\u001b[0m\u001b[0;34m\u001b[0m\u001b[0;34m\u001b[0m\u001b[0m\n\u001b[0m",
            "\u001b[0;31mFileNotFoundError\u001b[0m: [Errno 2] No such file or directory: '/content/sample_data/arquivoTeste.txt'"
          ]
        }
      ],
      "source": [
        "# Abrindo o arquivo para leitura\n",
        "a1 = open(\"/content/sample_data/arquivoTeste.txt\", \"r\")"
      ]
    },
    {
      "cell_type": "code",
      "execution_count": null,
      "metadata": {
        "id": "ldpqQMxhS6Zm"
      },
      "outputs": [],
      "source": [
        "# Escrevendo a variável a1\n",
        "print(a1.read())"
      ]
    },
    {
      "cell_type": "markdown",
      "metadata": {
        "id": "Fe7RLtY8S6Zm"
      },
      "source": [
        "### Gravando arquivos (.txt)"
      ]
    },
    {
      "cell_type": "code",
      "execution_count": null,
      "metadata": {
        "id": "IH-mhqRWS6Zm"
      },
      "outputs": [],
      "source": [
        "# Abrindo o arquivo para escrita\n",
        "a2 = open(\"/content/sample_data/arquivo1.txt\", \"w\")"
      ]
    },
    {
      "cell_type": "code",
      "execution_count": null,
      "metadata": {
        "id": "UTJZYHARS6Zm"
      },
      "outputs": [],
      "source": [
        "# Gravando no arquivo\n",
        "a2.write(\"Aprendendo Python em 20/08!\")"
      ]
    },
    {
      "cell_type": "code",
      "execution_count": null,
      "metadata": {
        "id": "KJntya_wS6Zn"
      },
      "outputs": [],
      "source": [
        "# Abrindo o arquivo para leitura - no content (temporário)\n",
        "a2 = open(\"/content/sample_data/arquivo1.txt\", \"r\")"
      ]
    },
    {
      "cell_type": "code",
      "execution_count": null,
      "metadata": {
        "id": "6HAGp-83S6Zn"
      },
      "outputs": [],
      "source": [
        "# Imprimindo arquivo\n",
        "print(a2.read())"
      ]
    },
    {
      "cell_type": "markdown",
      "source": [
        "# Manipulando datasets"
      ],
      "metadata": {
        "id": "goDUZcGfs4eB"
      }
    },
    {
      "cell_type": "code",
      "source": [
        "# importar o arquivo e guardar em um dataframe do Pandas\n",
        "import pandas as pd\n",
        "df = pd.read_csv ('/content/hospital.csv', sep=',', index_col=None)"
      ],
      "metadata": {
        "id": "0GOSAvQulbeR"
      },
      "execution_count": null,
      "outputs": []
    },
    {
      "cell_type": "markdown",
      "source": [],
      "metadata": {
        "id": "PQgMUOKXlJHg"
      }
    },
    {
      "cell_type": "code",
      "source": [
        "# exibir o dataframe\n",
        "df"
      ],
      "metadata": {
        "id": "Bm7Dpi2uwiun"
      },
      "execution_count": null,
      "outputs": []
    },
    {
      "cell_type": "code",
      "source": [
        "# exibir uma amostra do dataframe (head)\n",
        "display(df.head())"
      ],
      "metadata": {
        "id": "I0XNOFtluXuQ"
      },
      "execution_count": null,
      "outputs": []
    },
    {
      "cell_type": "code",
      "source": [
        "# exibir uma amostra do dataframe (tail)\n",
        "display(df.tail())"
      ],
      "metadata": {
        "id": "2638BXqiuiDX"
      },
      "execution_count": null,
      "outputs": []
    },
    {
      "cell_type": "code",
      "source": [
        "# Agrupar por 'Diagnóstico', mostrando as ocorrências\n",
        "df.groupby('Diagnóstico').count().plot.pie(y = 'Internação');"
      ],
      "metadata": {
        "id": "VWjeKeP1vK8v"
      },
      "execution_count": null,
      "outputs": []
    },
    {
      "cell_type": "code",
      "source": [
        "# Qual time tem mais Doentes? :)\n",
        "df_doente = df[df['Diagnóstico'] == 'Doente']\n",
        "time_mais_doente = df_doente['Time'].value_counts().idxmax()\n",
        "print(\"O time com o maior número de diagnósticos 'Doente' é o\",time_mais_doente,\"!\")"
      ],
      "metadata": {
        "id": "gbIta3tTxftG"
      },
      "execution_count": null,
      "outputs": []
    },
    {
      "cell_type": "code",
      "source": [],
      "metadata": {
        "id": "UlT1Jm-O2Wta"
      },
      "execution_count": null,
      "outputs": []
    },
    {
      "cell_type": "markdown",
      "source": [
        "Enfim, logo estudaremos **Ciência de Dados** e as análises dependerão dos objetivos e das perguntas que **desejamos responder com os dados**!"
      ],
      "metadata": {
        "id": "b40lgXSfyYCP"
      }
    }
  ],
  "metadata": {
    "kernelspec": {
      "display_name": "Python 3",
      "name": "python3"
    },
    "language_info": {
      "codemirror_mode": {
        "name": "ipython",
        "version": 3
      },
      "file_extension": ".py",
      "mimetype": "text/x-python",
      "name": "python",
      "nbconvert_exporter": "python",
      "pygments_lexer": "ipython3",
      "version": "3.9.13"
    },
    "colab": {
      "provenance": [],
      "gpuType": "V28",
      "include_colab_link": true
    },
    "accelerator": "TPU"
  },
  "nbformat": 4,
  "nbformat_minor": 0
}